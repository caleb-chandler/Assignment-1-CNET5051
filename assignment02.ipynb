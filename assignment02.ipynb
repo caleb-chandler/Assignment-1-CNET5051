{
 "cells": [
  {
   "cell_type": "code",
   "execution_count": 3,
   "id": "494d8f6b",
   "metadata": {},
   "outputs": [],
   "source": [
    "import networkx as nx\n",
    "import numpy as np\n",
    "import random"
   ]
  },
  {
   "cell_type": "code",
   "execution_count": null,
   "id": "6b317e49",
   "metadata": {},
   "outputs": [
    {
     "ename": "SyntaxError",
     "evalue": "invalid syntax (920292874.py, line 24)",
     "output_type": "error",
     "traceback": [
      "\u001b[1;36m  Cell \u001b[1;32mIn[1], line 24\u001b[1;36m\u001b[0m\n\u001b[1;33m    G.\u001b[0m\n\u001b[1;37m      ^\u001b[0m\n\u001b[1;31mSyntaxError\u001b[0m\u001b[1;31m:\u001b[0m invalid syntax\n"
     ]
    }
   ],
   "source": [
    "# 1a (config model)\n",
    "\n",
    "def config_model(degseq):\n",
    "    ''' \n",
    "    implements configuration model to generate graph with preset degree distribution\n",
    "\n",
    "    args:\n",
    "        degseq (list): degree sequence\n",
    "\n",
    "    returns:\n",
    "        nx.Graph(): randomized graph\n",
    "    '''\n",
    "    G = nx.Graph()\n",
    "    ds_copy = list(degseq) # creating a copy of degseq to avoid writing over the original\n",
    "\n",
    "    # list comprehension to create nodes to populate G with\n",
    "    nodes_with_attrs = [(i, {\"degree\": deg}) for i, deg in enumerate(degseq)]\n",
    "    G.add_nodes_from(nodes_with_attrs)\n",
    "\n",
    "    node_ids = list(G.nodes())\n",
    "\n",
    "    while sum(ds_copy) > 0: # until every stub has been matched\n",
    "        stubs = random.sample(node_ids, 2)\n",
    "        i, j = stubs\n",
    "        if ds_copy[i] > 0 and ds_copy[j] > 0:\n",
    "            G.add_edge(i, j)\n",
    "            ds_copy[i] -= 1\n",
    "            ds_copy[j] -= 1\n",
    "        else:\n",
    "            continue"
   ]
  },
  {
   "cell_type": "markdown",
   "id": "2054e977",
   "metadata": {},
   "source": [
    "next step connect each node to another if it has the "
   ]
  }
 ],
 "metadata": {
  "kernelspec": {
   "display_name": "base",
   "language": "python",
   "name": "python3"
  },
  "language_info": {
   "codemirror_mode": {
    "name": "ipython",
    "version": 3
   },
   "file_extension": ".py",
   "mimetype": "text/x-python",
   "name": "python",
   "nbconvert_exporter": "python",
   "pygments_lexer": "ipython3",
   "version": "3.12.7"
  }
 },
 "nbformat": 4,
 "nbformat_minor": 5
}
