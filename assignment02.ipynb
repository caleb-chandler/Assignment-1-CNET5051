{
 "cells": [
  {
   "cell_type": "code",
   "execution_count": 8,
   "id": "494d8f6b",
   "metadata": {},
   "outputs": [],
   "source": [
    "import networkx as nx\n",
    "import numpy as np\n",
    "import random\n",
    "import matplotlib.pyplot as plt"
   ]
  },
  {
   "cell_type": "code",
   "execution_count": null,
   "id": "6b317e49",
   "metadata": {},
   "outputs": [],
   "source": [
    "# 1a config model\n",
    "\n",
    "def config_model(degseq):\n",
    "    G = nx.Graph()\n",
    "    # convert degseq into a numpy array to make it faster\n",
    "    ds_array = np.array(degseq)\n",
    "    # create nodes to populate G with\n",
    "    N = len(degseq)\n",
    "    G.add_nodes_from(range(N))\n",
    "\n",
    "    node_ids = list(G.nodes())\n",
    "\n",
    "    while sum(ds_array) > 0: # until every stub has been matched\n",
    "        stubs = random.sample(node_ids, 2)\n",
    "        i, j = stubs\n",
    "        if ds_array[i] > 0 and ds_array[j] > 0:\n",
    "            G.add_edge(i, j)\n",
    "            ds_array[i] -= 1\n",
    "            ds_array[j] -= 1\n",
    "        else:\n",
    "            continue"
   ]
  },
  {
   "cell_type": "code",
   "execution_count": null,
   "id": "a14cfbf1",
   "metadata": {},
   "outputs": [],
   "source": [
    "#1b chung lu\n",
    "\n",
    "def chung_lu(degseq): \n",
    "    # same as before\n",
    "    G = nx.Graph()\n",
    "    ds_array = np.array(degseq)\n",
    "    N = len(ds_array)\n",
    "    G.add_nodes_from(range(N))\n",
    "    degsum = np.sum(ds_array)\n",
    "\n",
    "    for i in range(N):\n",
    "        for j in range(i+1, N): # nested for loop to get all possible combos w/o visiting any twice\n",
    "            ki = ds_array[i]\n",
    "            ji = ds_array[j]\n",
    "            pr = (ki*ji)/sum(ds_array) # 2m = sum of degree sequence\n",
    "            if random.random()< pr:\n",
    "                G.add_edge(i, j)\n",
    "    return G"
   ]
  },
  {
   "cell_type": "markdown",
   "id": "2054e977",
   "metadata": {},
   "source": []
  },
  {
   "cell_type": "code",
   "execution_count": null,
   "id": "16da3879",
   "metadata": {},
   "outputs": [],
   "source": [
    "# 1c model diff (setup)\n",
    "\n",
    "degrees=[8,5,5,4,3,2,2,2,1,1,1,1,1,1,1]\n",
    "# init lists to contain samples\n",
    "config_graphs = []\n",
    "cl_graphs = []\n",
    "\n",
    "# collecting samples\n",
    "for i in range(1000):\n",
    "    G = config_model(degrees)\n",
    "    config_graphs.append(G)\n",
    "\n",
    "for i in range(1000):\n",
    "    G = chung_lu(degrees)\n",
    "    cl_graphs.append(G)\n",
    "\n",
    "def avg_adj_matrix(sample): # function to calculate avg adjacency matrix\n",
    "    n = len(degrees)\n",
    "    sum_matrix = np.zeros((n, n)) # zero matrix to act as \"running total\"\n",
    "    for g in sample:\n",
    "        sum_matrix += nx.to_numpy_array(g) # convert to array and add to sum\n",
    "    avg_matrix = sum_matrix / len(sample)\n",
    "    return avg_matrix\n",
    "\n",
    "config_avg_adj = avg_adj_matrix(config_graphs)\n",
    "cl_avg_adj = avg_adj_matrix(cl_graphs)\n",
    "\n"
   ]
  },
  {
   "cell_type": "code",
   "execution_count": null,
   "id": "12b9d716",
   "metadata": {},
   "outputs": [],
   "source": [
    "type(avg_matrix)"
   ]
  },
  {
   "cell_type": "code",
   "execution_count": null,
   "id": "8976f2be",
   "metadata": {},
   "outputs": [],
   "source": []
  }
 ],
 "metadata": {
  "kernelspec": {
   "display_name": "base",
   "language": "python",
   "name": "python3"
  },
  "language_info": {
   "codemirror_mode": {
    "name": "ipython",
    "version": 3
   },
   "file_extension": ".py",
   "mimetype": "text/x-python",
   "name": "python",
   "nbconvert_exporter": "python",
   "pygments_lexer": "ipython3",
   "version": "3.12.7"
  }
 },
 "nbformat": 4,
 "nbformat_minor": 5
}
