{
 "cells": [
  {
   "cell_type": "code",
   "execution_count": null,
   "id": "48335ff0",
   "metadata": {},
   "outputs": [],
   "source": [
    "# import necessary libraries/modules\n",
    "import networkx as nx\n",
    "import matplotlib.pyplot as plt\n",
    "import numpy as np\n",
    "import random"
   ]
  },
  {
   "cell_type": "code",
   "execution_count": null,
   "id": "be745996",
   "metadata": {},
   "outputs": [],
   "source": [
    "# generate sample graph\n",
    "G = nx.karate_club_graph"
   ]
  },
  {
   "cell_type": "code",
   "execution_count": null,
   "id": "2ef9b395",
   "metadata": {},
   "outputs": [],
   "source": [
    "# create function that selects a random edge\n",
    "def get_random_edge(G):\n",
    "    '''\n",
    "    selects one edge at random from graph G and returns its two nodes\n",
    "\n",
    "    Args:\n",
    "        G (nx.Graph): the graph to be referenced\n",
    "\n",
    "    Returns:\n",
    "        list: a list of the two nodes from selected edge\n",
    "    '''\n",
    "    edges = list(G.edges())\n",
    "\n",
    "    random_edge = random.choice(edges)\n",
    "\n",
    "    return list(random_edge)"
   ]
  },
  {
   "cell_type": "code",
   "execution_count": null,
   "id": "f2c010ca",
   "metadata": {},
   "outputs": [],
   "source": [
    "# translating provided pseudocode function\n",
    "def edge_exchange(G, t):\n",
    "    '''\n",
    "    Implements 'edge exchange' algorithm to generate a null model of a graph while preserving its initial \n",
    "    degree distribution. Performs 't' successful edge exchanges on given graph 'G' to randomize it.\n",
    "\n",
    "    Args:\n",
    "        G (nx.Graph): an undirected graph\n",
    "        t (int): number of exchanges to be performed.\n",
    "\n",
    "    Returns:\n",
    "        nx.Graph: a new, randomized version of input graph G.\n",
    "    '''\n",
    "    G_copy = G.copy()  # create a copy of the graph so as to avoid altering it in place\n",
    "\n",
    "    s = 0  # initialize counter\n",
    "\n",
    "    while s < t:\n",
    "        node_a, node_b = get_random_edge(G_copy)\n",
    "        # define nodes to be referenced\n",
    "        node_c, node_d = get_random_edge(G_copy)\n",
    "        if node_a == node_c or node_a == node_d or node_b == node_c or node_b == node_d:\n",
    "            continue  # skip if edges not independent\n",
    "        if G_copy.has_edge(node_a, node_d) or G_copy.has_edge(node_b, node_c):\n",
    "            continue  # skip if edges to be created already exist\n",
    "        G_copy.remove_edge(node_a, node_b)\n",
    "        G_copy.remove_edge(node_c, node_d)\n",
    "        G_copy.add_edge(node_a, node_d)\n",
    "        G_copy.add_edge(node_b, node_c)  # remove and replace edges\n",
    "\n",
    "        s += 1  # add 1 to counter\n",
    "\n",
    "    return G_copy"
   ]
  }
 ],
 "metadata": {
  "kernelspec": {
   "display_name": "base",
   "language": "python",
   "name": "python3"
  },
  "language_info": {
   "codemirror_mode": {
    "name": "ipython",
    "version": 3
   },
   "file_extension": ".py",
   "mimetype": "text/x-python",
   "name": "python",
   "nbconvert_exporter": "python",
   "pygments_lexer": "ipython3",
   "version": "3.12.7"
  }
 },
 "nbformat": 4,
 "nbformat_minor": 5
}
