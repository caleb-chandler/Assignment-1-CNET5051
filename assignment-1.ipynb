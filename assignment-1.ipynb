{
 "cells": [
  {
   "cell_type": "code",
   "execution_count": null,
   "id": "48335ff0",
   "metadata": {},
   "outputs": [],
   "source": [
    "# import necessary libraries/modules\n",
    "import networkx as nx\n",
    "import matplotlib.pyplot as plt\n",
    "import numpy as np\n",
    "import random"
   ]
  },
  {
   "cell_type": "code",
   "execution_count": null,
   "id": "be745996",
   "metadata": {},
   "outputs": [],
   "source": [
    "# generate sample graph\n",
    "G = nx.karate_club_graph()"
   ]
  },
  {
   "cell_type": "code",
   "execution_count": null,
   "id": "2ef9b395",
   "metadata": {},
   "outputs": [],
   "source": [
    "# create function that selects a random edge for use in edge_exchange\n",
    "def get_random_edge(G):\n",
    "    '''\n",
    "    selects one edge at random from graph G and returns its two nodes\n",
    "\n",
    "    Args:\n",
    "        G (nx.Graph): the graph to be referenced\n",
    "\n",
    "    Returns:\n",
    "        list: a list of the two nodes from selected edge\n",
    "    '''\n",
    "    edges = list(G.edges())\n",
    "\n",
    "    random_edge = random.choice(edges)\n",
    "\n",
    "    return list(random_edge)"
   ]
  },
  {
   "cell_type": "code",
   "execution_count": null,
   "id": "f2c010ca",
   "metadata": {
    "tags": [
     "skip"
    ]
   },
   "outputs": [],
   "source": [
    "# translating provided pseudocode function\n",
    "def edge_exchange(G, t):\n",
    "        '''\n",
    "        Implements 'edge exchange' algorithm to generate a null model of a graph while preserving its initial \n",
    "        degree distribution. Performs 't' successful edge exchanges on given graph 'G' to randomize it.\n",
    "\n",
    "        Args:\n",
    "            G (nx.Graph): an undirected graph\n",
    "            t (int): number of exchanges to be performed.\n",
    "\n",
    "        Returns:\n",
    "            nx.Graph: a new, randomized version of input graph G.\n",
    "        '''\n",
    "        G_copy = G.copy()  # create a copy of the graph so as to avoid altering it in place\n",
    "\n",
    "        s = 0  # initialize counter\n",
    "\n",
    "        while s < t:\n",
    "            node_a, node_b = get_random_edge(G_copy)\n",
    "            # define nodes to be referenced\n",
    "            node_c, node_d = get_random_edge(G_copy)\n",
    "            if node_a == node_c or node_a == node_d or node_b == node_c or node_b == node_d:\n",
    "                continue  # skip if edges not independent\n",
    "            if G_copy.has_edge(node_a, node_d) or G_copy.has_edge(node_b, node_c):\n",
    "                continue  # skip if edges to be created already exist\n",
    "            G_copy.remove_edge(node_a, node_b)\n",
    "            G_copy.remove_edge(node_c, node_d)\n",
    "            G_copy.add_edge(node_a, node_d)\n",
    "            G_copy.add_edge(node_b, node_c)  # remove and replace edges\n",
    "\n",
    "            s += 1  # add 1 to counter\n",
    "\n",
    "        return G_copy"
   ]
  },
  {
   "cell_type": "code",
   "execution_count": null,
   "id": "ab027225",
   "metadata": {},
   "outputs": [],
   "source": [
    "# 2b\n",
    "def edge_exchange(G, t, max):\n",
    "    '''\n",
    "    Implements 'edge exchange' algorithm to generate a null model of a graph while preserving its initial \n",
    "    degree distribution. Performs 't' successful edge exchanges on given graph 'G' to randomize it.\n",
    "\n",
    "    Args:\n",
    "        G (nx.Graph): an undirected graph\n",
    "        t (int): number of exchanges to be performed.\n",
    "        max (int): maximum number of failed iterations before loop closes\n",
    "\n",
    "    Returns:\n",
    "        nx.Graph: a new, randomized version of input graph G.\n",
    "    '''\n",
    "    G_copy = G.copy()  # create a copy of the graph so as to avoid altering it in place\n",
    "\n",
    "    s = 0  # initialize counter for successful swaps\n",
    "    itercount = 0  # initialize counter for failed iterations\n",
    "\n",
    "    while s < t and itercount < max:\n",
    "        node_a, node_b = get_random_edge(G_copy)\n",
    "        # define nodes to be referenced\n",
    "        node_c, node_d = get_random_edge(G_copy)\n",
    "        if node_a == node_c or node_a == node_d or node_b == node_c or node_b == node_d:\n",
    "            itercount += 1  # add 1 to failure counter\n",
    "            continue  # skip if edges not independent\n",
    "        if G_copy.has_edge(node_a, node_d) or G_copy.has_edge(node_b, node_c):\n",
    "            itercount += 1\n",
    "            continue  # skip if edges to be created already exist\n",
    "        G_copy.remove_edge(node_a, node_b)\n",
    "        G_copy.remove_edge(node_c, node_d)\n",
    "        G_copy.add_edge(node_a, node_d)\n",
    "        G_copy.add_edge(node_b, node_c)  # remove and replace edges\n",
    "\n",
    "        s += 1  # add 1 to success counter\n",
    "\n",
    "    if itercount == max:  # print error message if max failures reached\n",
    "        print(\"Error: Insufficient number of allowable exchanges\")\n",
    "        return None # differentiate between outputs if loop fails\n",
    "\n",
    "    return G_copy"
   ]
  },
  {
   "cell_type": "code",
   "execution_count": null,
   "id": "f0328521",
   "metadata": {},
   "outputs": [],
   "source": [
    "G = nx.complete_graph(100) # creating a complete graph to test functionality of 2b answer"
   ]
  },
  {
   "cell_type": "code",
   "execution_count": null,
   "id": "264be6ce",
   "metadata": {},
   "outputs": [],
   "source": [
    "# testing the function\n",
    "\n",
    "# call function and assign it to a variable\n",
    "G_null = edge_exchange(G, 200, 1000)\n",
    "\n",
    "if G_null is not None:\n",
    "\n",
    "    fig, ax = plt.subplots(nrows=1, ncols=2, figsize=(14, 6))\n",
    "\n",
    "    ax[0].set_title(\"original network\")\n",
    "\n",
    "    pos = nx.spring_layout(G, seed=42)\n",
    "    nx.draw(G, pos, ax=ax[0], with_labels=True, node_color='#1f78b4')\n",
    "\n",
    "    ax[1].set_title(\"randomized network\")\n",
    "\n",
    "    nx.draw(G_null, pos, ax=ax[1], with_labels=True, node_color='#ff7f0e')\n",
    "\n",
    "    plt.show()"
   ]
  },
  {
   "cell_type": "code",
   "execution_count": null,
   "id": "79d9bb1e",
   "metadata": {},
   "outputs": [],
   "source": [
    "# 2c\n",
    "def edge_exchange_preserve_components(G, t, max):\n",
    "    '''\n",
    "    Modification of the edge exchange algorithm which preserves existing components\n",
    "    by isolating each and performing algorithm individually before reconnecting\n",
    "\n",
    "    Args:\n",
    "        G (nx.Graph): an undirected graph\n",
    "        t (int): number of exchanges to be performed\n",
    "        max (int): maximum number of failed iterations before loop closes\n",
    "\n",
    "    Returns:\n",
    "        nx.Graph: a new, randomized version of input graph G\n",
    "    '''\n",
    "    components = [G.subgraph(c).copy() for c in nx.connected_components(G)]\n",
    "\n",
    "    randomized_components = []\n",
    "    \n",
    "    for i, c in enumerate(components):\n",
    "        rc = edge_exchange(c, t, max)\n",
    "        randomized_components.append(rc)\n",
    "\n",
    "    G_null = nx.union_all(randomized_components)\n",
    "\n",
    "    return G_null"
   ]
  },
  {
   "cell_type": "code",
   "execution_count": null,
   "id": "c0cdd9e8",
   "metadata": {},
   "outputs": [],
   "source": [
    "# 2d\n"
   ]
  },
  {
   "cell_type": "code",
   "execution_count": null,
   "id": "65c5185d",
   "metadata": {},
   "outputs": [],
   "source": [
    "help(nx.union_all)"
   ]
  }
 ],
 "metadata": {
  "kernelspec": {
   "display_name": "base",
   "language": "python",
   "name": "python3"
  },
  "language_info": {
   "codemirror_mode": {
    "name": "ipython",
    "version": 3
   },
   "file_extension": ".py",
   "mimetype": "text/x-python",
   "name": "python",
   "nbconvert_exporter": "python",
   "pygments_lexer": "ipython3",
   "version": "3.12.7"
  }
 },
 "nbformat": 4,
 "nbformat_minor": 5
}
