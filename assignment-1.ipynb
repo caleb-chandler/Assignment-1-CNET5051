{
 "cells": [
  {
   "cell_type": "code",
   "execution_count": null,
   "id": "48335ff0",
   "metadata": {},
   "outputs": [],
   "source": [
    "#importing necessary libraries/modules\n",
    "import networkx as nx\n",
    "import matplotlib.pyplot as plt\n",
    "import numpy as np\n",
    "import random"
   ]
  },
  {
   "cell_type": "code",
   "execution_count": null,
   "id": "be745996",
   "metadata": {},
   "outputs": [],
   "source": [
    "#generating sample graph\n",
    "G = nx.karate_club_graph\n"
   ]
  },
  {
   "cell_type": "code",
   "execution_count": null,
   "id": "2ef9b395",
   "metadata": {},
   "outputs": [],
   "source": [
    "#create function that selects a random edge\n",
    "def get_random_edge(G):\n",
    "    '''\n",
    "    selects one edge at random from graph G and returns its two nodes\n",
    "\n",
    "    Args:\n",
    "        G (nx.Graph): the graph to be referenced\n",
    "\n",
    "    Returns:\n",
    "        list: a list of the two nodes from selected edge\n",
    "    '''\n",
    "    edges = list(G.edges())\n",
    "    \n",
    "    random_edge = random.choice(edges)\n",
    "    \n",
    "    return list (random_edge)"
   ]
  },
  {
   "cell_type": "code",
   "execution_count": null,
   "id": "f2c010ca",
   "metadata": {},
   "outputs": [],
   "source": [
    "#2b\n",
    "def edge_exchange(G, t):\n",
    "    '''\n",
    "    Implements 'edge exchange' algorithm to generate a null model of a graph while preserving its initial \n",
    "    degree distribution. Performs 't' successful edge exchanges on given graph 'G' to randomize it.\n",
    "\n",
    "    Args:\n",
    "        G (nx.Graph): an undirected graph\n",
    "        t (int): # of exchanges to be performed.\n",
    "\n",
    "    Returns:\n",
    "        nx.Graph: a new, randomized version of input graph G.\n",
    "    '''\n",
    "    G_copy = G.copy() #create a copy of the graph so as to avoid altering it in place\n",
    "\n",
    "    s = 0 #initialize counter\n",
    "\n",
    "    while s < t:\n",
    "        node_a, node_b = get_random_edge(G)\n",
    "        node_c, node_d = get_random_edge(G)\n",
    "        if "
   ]
  }
 ],
 "metadata": {
  "kernelspec": {
   "display_name": "example",
   "language": "python",
   "name": "example"
  },
  "language_info": {
   "name": "python",
   "version": "3.13.2"
  }
 },
 "nbformat": 4,
 "nbformat_minor": 5
}
